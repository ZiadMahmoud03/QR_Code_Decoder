{
  "cells": [
    {
      "cell_type": "markdown",
      "source": [],
      "metadata": {
        "id": "FEkkjh-hnoTY"
      }
    },
    {
      "cell_type": "code",
      "execution_count": 1,
      "metadata": {
        "id": "7lf0EOpLmiw5"
      },
      "outputs": [],
      "source": [
        "import cv2\n",
        "import numpy as np\n",
        "import matplotlib.pyplot as plt\n",
        "from google.colab.patches import cv2_imshow\n",
        "import math"
      ]
    },
    {
      "cell_type": "code",
      "execution_count": 2,
      "metadata": {
        "id": "CGFId2Mumiw7"
      },
      "outputs": [],
      "source": [
        "image = cv2.imread('/content/03-Leffy-bina-ya-donya.png', cv2.IMREAD_GRAYSCALE)\n"
      ]
    },
    {
      "cell_type": "code",
      "execution_count": 3,
      "metadata": {
        "id": "UoZsY6kEmiw7"
      },
      "outputs": [],
      "source": [
        "# gray_image = cv2.cvtColor(image, cv2.IMREAD_GRAYSCALE)\n",
        "\n",
        "# Apply adaptive thresholding\n",
        "_, thresh_image = cv2.threshold(image, 90, 255, cv2.THRESH_BINARY)\n"
      ]
    },
    {
      "cell_type": "code",
      "source": [
        "def get_hough(img):\n",
        "    # Apply Canny edge detection\n",
        "    edges = cv2.Canny(img, 50, 150)\n",
        "\n",
        "    # Apply Hough transform\n",
        "    lines = cv2.HoughLinesP(edges, rho=1, theta=np.pi / 180, threshold=30, minLineLength=50, maxLineGap=190)\n",
        "\n",
        "    # Create a black mask\n",
        "    mask = np.zeros_like(img)\n",
        "\n",
        "    # Draw Hough lines on the mask\n",
        "    if lines is not None:\n",
        "        for line in lines:\n",
        "            x1, y1, x2, y2 = line[0]\n",
        "            cv2.line(mask, (x1, y1), (x2, y2), (255, 255, 255), 2)\n",
        "\n",
        "    return mask"
      ],
      "metadata": {
        "id": "Lcof2c45LWlo"
      },
      "execution_count": 4,
      "outputs": []
    },
    {
      "cell_type": "code",
      "source": [
        "def get_largest_square_contour(image):\n",
        "    # Find contours in the image\n",
        "    contours, _ = cv2.findContours(image, cv2.RETR_TREE, cv2.CHAIN_APPROX_SIMPLE)\n",
        "\n",
        "    # Initialize variables to keep track of the largest square contour\n",
        "    max_area = 0\n",
        "    largest_square_contour = None\n",
        "\n",
        "    # Iterate through each contour\n",
        "    for cnt in contours:\n",
        "        # Calculate the bounding rectangle dimensions\n",
        "        x, y, w, h = cv2.boundingRect(cnt)\n",
        "\n",
        "\n",
        "        # Calculate the aspect ratio\n",
        "        ratio = float(w) / h\n",
        "\n",
        "        # Check if the aspect ratio is close to 1 (approximate square)\n",
        "        if ratio >= 0.9 and ratio <= 1.1:\n",
        "            # Check if the width and height are similar (closer to a square)\n",
        "            if abs(w - h) <= 10:  # Adjust the threshold as needed\n",
        "                # Calculate the area of the contour\n",
        "                area = cv2.contourArea(cnt)\n",
        "\n",
        "                # Update the largest square contour if the current contour has a larger area\n",
        "                if area > max_area:\n",
        "                    max_area = area\n",
        "                    largest_square_contour = cnt\n",
        "\n",
        "    return largest_square_contour\n"
      ],
      "metadata": {
        "id": "so82mEgDTiZn"
      },
      "execution_count": 5,
      "outputs": []
    },
    {
      "cell_type": "code",
      "source": [
        "image_with_hough = get_hough(thresh_image)\n",
        "plt.imshow(image_with_hough, cmap='gray')"
      ],
      "metadata": {
        "colab": {
          "base_uri": "https://localhost:8080/",
          "height": 452
        },
        "id": "mi2qPQgcK-ge",
        "outputId": "6e1f5e34-39fd-4424-c1f4-a66935e9b329"
      },
      "execution_count": 6,
      "outputs": [
        {
          "output_type": "execute_result",
          "data": {
            "text/plain": [
              "<matplotlib.image.AxesImage at 0x78fd2ea1c310>"
            ]
          },
          "metadata": {},
          "execution_count": 6
        },
        {
          "output_type": "display_data",
          "data": {
            "text/plain": [
              "<Figure size 640x480 with 1 Axes>"
            ],
            "image/png": "[encoded data removed]"
          },
          "metadata": {}
        }
      ]
    },
    {
      "cell_type": "code",
      "source": [
        "contourss = get_largest_square_contour(image_with_hough)\n",
        "\n",
        "if contourss is not None:\n",
        "    contour_img = image.copy()\n",
        "    cv2.drawContours(contour_img, [contourss], -1, (0, 255, 0), 4)\n",
        "else:\n",
        "    print(\"No square contour found.\")  # Pass the contour to drawContours\n",
        "\n",
        "cv2_imshow(contour_img)"
      ],
      "metadata": {
        "colab": {
          "base_uri": "https://localhost:8080/",
          "height": 1000
        },
        "id": "3iDYqbVrSvYC",
        "outputId": "eb8f86b7-647a-4ec6-fd52-ed580b25da0e"
      },
      "execution_count": 7,
      "outputs": [
        {
          "output_type": "display_data",
          "data": {
            "text/plain": [
              "<PIL.Image.Image image mode=L size=1012x1012>"
            ],
            "image/png": "[encoded data removed]"
          },
          "metadata": {}
        }
      ]
    },
    {
      "cell_type": "code",
      "source": [
        "def zoom_in_on_contour(image, contour):\n",
        "    # Get the bounding rectangle of the contour\n",
        "    x, y, w, h = cv2.boundingRect(contour)\n",
        "\n",
        "    # Define the ROI coordinates\n",
        "    roi_x1 = max(x - 10, 0)  # Add some padding to the ROI\n",
        "    roi_y1 = max(y - 10, 0)\n",
        "    roi_x2 = min(x + w + 10, image.shape[1])\n",
        "    roi_y2 = min(y + h + 10, image.shape[0])\n",
        "\n",
        "    # Extract the ROI from the image\n",
        "    roi = image[roi_y1:roi_y2, roi_x1:roi_x2]\n",
        "\n",
        "    return roi\n",
        "\n",
        "# Assuming you have the largest square contour stored in the variable largest_square_contour\n",
        "if contourss is not None:\n",
        "    # Zoom in on the contour\n",
        "    zoomed_in_image = zoom_in_on_contour(image, contourss)\n",
        "\n",
        "    # Display the zoomed-in image\n",
        "    plt.imshow(zoomed_in_image, cmap='gray')\n",
        "    plt.axis('off')\n",
        "    plt.show()\n",
        "else:\n",
        "    print(\"No square contour found.\")\n"
      ],
      "metadata": {
        "colab": {
          "base_uri": "https://localhost:8080/",
          "height": 406
        },
        "id": "bGew-OCGMKBc",
        "outputId": "e83febf7-3f08-4695-c3e8-b7694ed32d03"
      },
      "execution_count": 8,
      "outputs": [
        {
          "output_type": "display_data",
          "data": {
            "text/plain": [
              "<Figure size 640x480 with 1 Axes>"
            ],
            "image/png": "[encoded data removed]"
          },
          "metadata": {}
        }
      ]
    },
    {
      "cell_type": "code",
      "source": [
        "contours, _ = cv2.findContours(zoomed_in_image, cv2.RETR_TREE, cv2.CHAIN_APPROX_SIMPLE)\n",
        "\n",
        "# Initialize list to store squares and their dimensions\n",
        "squares_with_dimensions = []\n",
        "\n",
        "for cnt in contours:\n",
        "    x1, y1 = cnt[0][0]\n",
        "    approx = cv2.approxPolyDP(cnt, 0.01 * cv2.arcLength(cnt, True), True)\n",
        "    if len(approx) == 4:\n",
        "        x, y, w, h = cv2.boundingRect(cnt)\n",
        "        ratio = float(w) / h\n",
        "        if ratio >= 0.9 and ratio <= 1.1:\n",
        "            squares_with_dimensions.append((cnt, (x1, y1), w, h))\n",
        "\n",
        "# Sort squares by area in descending order\n",
        "squares_with_dimensions.sort(key=lambda x: cv2.contourArea(x[0]), reverse=True)\n",
        "\n",
        "# Find the largest group of three squares with the same dimensions within a tolerance of ±5 pixels\n",
        "largest_same_dim_squares = []\n",
        "i = 0\n",
        "while i < len(squares_with_dimensions) - 2:\n",
        "    square_i = squares_with_dimensions[i]\n",
        "    square_i1 = squares_with_dimensions[i + 1]\n",
        "    square_i2 = squares_with_dimensions[i + 2]\n",
        "    w_i, h_i = square_i[2:]\n",
        "    w_i1, h_i1 = square_i1[2:]\n",
        "    w_i2, h_i2 = square_i2[2:]\n",
        "    if (abs(w_i - w_i1) <= 5 and abs(h_i - h_i1) <= 5) and (abs(w_i - w_i2) <= 5 and abs(h_i - h_i2) <= 5):\n",
        "        largest_same_dim_squares.append((square_i, square_i1, square_i2))\n",
        "        break\n",
        "    i += 1\n",
        "\n",
        "# Get centroids of squares\n",
        "square_centers = [[np.mean(square[0], axis=0)[0] for square in squares] for squares in largest_same_dim_squares]\n",
        "\n",
        "image_copy = zoomed_in_image.copy()\n",
        "\n",
        "# Draw the contours and add text for square objects\n",
        "for squares in largest_same_dim_squares:\n",
        "    for square_info in squares:\n",
        "        cnt, (x1, y1), _, _ = square_info\n",
        "        cv2.drawContours(image_copy, [cnt], -1, (128, 128, 128), 3)\n",
        "        cv2.putText(image_copy, \"Square\", (x1, y1), cv2.FONT_HERSHEY_SIMPLEX, 0.6, (125, 255, 0), 3)\n",
        "\n",
        "# Draw lines between centroids of adjacent squares\n",
        "if len(square_centers) == 1:\n",
        "    centers = square_centers[0]\n",
        "    if len(centers) == 3:\n",
        "        for i in range(len(centers)):\n",
        "            for j in range(i + 1, len(centers)):\n",
        "                centroid_i = centers[i]\n",
        "                centroid_j = centers[j]\n",
        "                cv2.line(image_copy, (int(centroid_i[0]), int(centroid_i[1])), (int(centroid_j[0]), int(centroid_j[1])), (125, 255, 0), 2)\n",
        "\n",
        "# Display the image\n",
        "cv2_imshow(image_copy)\n",
        "cv2.waitKey(0)\n",
        "cv2.destroyAllWindows()"
      ],
      "metadata": {
        "colab": {
          "base_uri": "https://localhost:8080/",
          "height": 964
        },
        "id": "fzZkkc5vcvig",
        "outputId": "d018ca6e-749b-4030-fd61-126ed78309eb"
      },
      "execution_count": 9,
      "outputs": [
        {
          "output_type": "display_data",
          "data": {
            "text/plain": [
              "<PIL.Image.Image image mode=L size=947x947>"
            ],
            "image/png": "[encoded data removed]"
          },
          "metadata": {}
        }
      ]
    },
    {
      "cell_type": "code",
      "source": [
        "square_centers_flat = [center for squares in square_centers for center in squares]\n",
        "\n",
        "center_x = (square_centers_flat[0][0] + square_centers_flat[1][0] + square_centers_flat[2][0]) / 3\n",
        "center_y = (square_centers_flat[0][1] + square_centers_flat[1][1] + square_centers_flat[2][1]) / 3\n",
        "\n",
        "# Determine which locator pattern is in the bottom-left corner\n",
        "distances_to_center = [math.sqrt((center_x - x)**2 + (center_y - y)**2) for x, y in square_centers_flat]\n",
        "bottom_left_idx = np.argmin(distances_to_center)\n",
        "\n",
        "# Use the bottom-left locator pattern as the reference\n",
        "ref_point = square_centers_flat[bottom_left_idx]\n",
        "\n",
        "# Find the closest locator pattern to the right of the reference point\n",
        "distances_to_ref = [math.sqrt((ref_point[0] - x)**2 + (ref_point[1] - y)**2) for x, y in square_centers_flat]\n",
        "distances_to_ref[bottom_left_idx] = float('inf')  # Exclude the reference point itself\n",
        "closest_right_idx = np.argmin(distances_to_ref)\n",
        "closest_right_point = square_centers_flat[closest_right_idx]\n",
        "\n",
        "# Calculate the angle to the right\n",
        "x_diff = closest_right_point[0] - ref_point[0]\n",
        "y_diff = closest_right_point[1] - ref_point[1]\n",
        "orientation_angle = math.atan2(y_diff, x_diff) * (180 / math.pi)\n",
        "\n",
        "# Adjust angle to standard range (0 to 360 degrees)\n",
        "orientation_angle = (orientation_angle + 360) % 360\n",
        "\n",
        "# Rotate the image to correct the tilt\n",
        "rows, cols = zoomed_in_image.shape[:2]\n",
        "rotation_matrix = cv2.getRotationMatrix2D((cols / 2, rows / 2), orientation_angle, 1)\n",
        "rotated_image = cv2.warpAffine(zoomed_in_image, rotation_matrix, (cols, rows), borderMode=cv2.BORDER_REPLICATE)\n",
        "\n",
        "# Display the image\n",
        "cv2_imshow(rotated_image)\n",
        "cv2.waitKey(0)\n",
        "cv2.destroyAllWindows()"
      ],
      "metadata": {
        "colab": {
          "base_uri": "https://localhost:8080/",
          "height": 964
        },
        "id": "wRQPfFiaIJuQ",
        "outputId": "047af972-1884-4b2b-a731-eb2a43d5f2f1"
      },
      "execution_count": 10,
      "outputs": [
        {
          "output_type": "display_data",
          "data": {
            "text/plain": [
              "<PIL.Image.Image image mode=L size=947x947>"
            ],
            "image/png": "[encoded data removed]"
          },
          "metadata": {}
        }
      ]
    },
    {
      "cell_type": "code",
      "source": [
        "\n",
        "# square_centers_flat = [center for squares in square_centers for center in squares]\n",
        "\n",
        "# # Calculate the orientation of the QR code\n",
        "# x_diff = square_centers_flat[1][0] - square_centers_flat[0][0]\n",
        "# y_diff = square_centers_flat[1][1] - square_centers_flat[0][1]\n",
        "\n",
        "# # Calculate the angle using atan2, ensuring the correct quadrant\n",
        "# orientation_angle = math.atan2(y_diff, x_diff) * (180 / math.pi)\n",
        "\n",
        "# # Adjust the angle for upside-down orientation\n",
        "# if orientation_angle < 0:\n",
        "#     orientation_angle += 180\n",
        "# else:\n",
        "#     orientation_angle -= 180\n",
        "\n",
        "# # Rotate the image to correct the tilt\n",
        "# rows, cols = zoomed_in_image.shape[:2]\n",
        "# rotation_matrix = cv2.getRotationMatrix2D((cols / 2, rows / 2), orientation_angle, 1)\n",
        "# rotated_image = cv2.warpAffine(zoomed_in_image, rotation_matrix, (cols, rows), borderMode=cv2.BORDER_REPLICATE)\n",
        "\n",
        "# # Display the image\n",
        "# cv2_imshow(rotated_image)\n",
        "# cv2.waitKey(0)\n",
        "# cv2.destroyAllWindows()"
      ],
      "metadata": {
        "id": "BV4ea3430GeS"
      },
      "execution_count": 11,
      "outputs": []
    },
    {
      "cell_type": "code",
      "source": [
        "new_img = get_hough(rotated_image)\n",
        "plt.imshow(new_img, cmap='gray')"
      ],
      "metadata": {
        "colab": {
          "base_uri": "https://localhost:8080/",
          "height": 452
        },
        "id": "Nz2FcwcI_KRi",
        "outputId": "ffb5d088-efc5-4c2d-8344-e3c72ecc6760"
      },
      "execution_count": 12,
      "outputs": [
        {
          "output_type": "execute_result",
          "data": {
            "text/plain": [
              "<matplotlib.image.AxesImage at 0x78fd2ea0bf10>"
            ]
          },
          "metadata": {},
          "execution_count": 12
        },
        {
          "output_type": "display_data",
          "data": {
            "text/plain": [
              "<Figure size 640x480 with 1 Axes>"
            ],
            "image/png": "[encoded data removed]"
          },
          "metadata": {}
        }
      ]
    },
    {
      "cell_type": "code",
      "source": [
        "contourss = get_largest_square_contour(new_img)\n",
        "\n",
        "if contourss is not None:\n",
        "    contour_img = rotated_image.copy()\n",
        "    cv2.drawContours(contour_img, [contourss], -1, (0, 255, 0), 4)\n",
        "else:\n",
        "    print(\"No square contour found.\")  # Pass the contour to drawContours\n",
        "\n",
        "cv2_imshow(contour_img)"
      ],
      "metadata": {
        "colab": {
          "base_uri": "https://localhost:8080/",
          "height": 964
        },
        "id": "y_osbu13_MoI",
        "outputId": "00b4c9df-e746-4bfb-dc81-c99791883cbc"
      },
      "execution_count": 13,
      "outputs": [
        {
          "output_type": "display_data",
          "data": {
            "text/plain": [
              "<PIL.Image.Image image mode=L size=947x947>"
            ],
            "image/png": "[encoded data removed]"
          },
          "metadata": {}
        }
      ]
    },
    {
      "cell_type": "code",
      "source": [
        "# Assuming you have the largest square contour stored in the variable largest_square_contour\n",
        "if contourss is not None:\n",
        "    # Zoom in on the contour\n",
        "    zoomed_in_image = zoom_in_on_contour(rotated_image, contourss)\n",
        "\n",
        "    # Display the zoomed-in image\n",
        "    plt.imshow(zoomed_in_image, cmap='gray')\n",
        "    plt.axis('off')\n",
        "    plt.show()\n",
        "else:\n",
        "    print(\"No square contour found.\")"
      ],
      "metadata": {
        "colab": {
          "base_uri": "https://localhost:8080/",
          "height": 406
        },
        "id": "G9dEHGl3_iEH",
        "outputId": "f67a9536-52c3-4ff5-bf45-579f9b726391"
      },
      "execution_count": 14,
      "outputs": [
        {
          "output_type": "display_data",
          "data": {
            "text/plain": [
              "<Figure size 640x480 with 1 Axes>"
            ],
            "image/png": "[encoded data removed]"
          },
          "metadata": {}
        }
      ]
    },
    {
      "cell_type": "code",
      "source": [],
      "metadata": {
        "id": "7HYZGtufCu0C"
      },
      "execution_count": 14,
      "outputs": []
    }
  ],
  "metadata": {
    "kernelspec": {
      "display_name": "Python 3",
      "language": "python",
      "name": "python3"
    },
    "language_info": {
      "codemirror_mode": {
        "name": "ipython",
        "version": 3
      },
      "file_extension": ".py",
      "mimetype": "text/x-python",
      "name": "python",
      "nbconvert_exporter": "python",
      "pygments_lexer": "ipython3",
      "version": "3.12.1"
    },
    "colab": {
      "provenance": []
    }
  },
  "nbformat": 4,
  "nbformat_minor": 0
}