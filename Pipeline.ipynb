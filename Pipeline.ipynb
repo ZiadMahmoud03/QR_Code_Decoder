{
  "cells": [
    {
      "cell_type": "code",
      "execution_count": null,
      "metadata": {},
      "outputs": [],
      "source": [
        "import cv2\n",
        "import numpy as np\n",
        "import matplotlib.pyplot as plt\n",
        "from google.colab.patches import cv2_imshow\n",
        "import os"
      ]
    },
    {
      "cell_type": "markdown",
      "metadata": {
        "id": "EGNeJetwPXB4"
      },
      "source": [
        "# Preprocessing pipeline\n",
        "\n"
      ]
    },
    {
      "cell_type": "markdown",
      "metadata": {
        "id": "t6RItDsPPi9c"
      },
      "source": [
        "## First Function"
      ]
    },
    {
      "cell_type": "code",
      "execution_count": 18,
      "metadata": {
        "id": "_poW1YXmPTHM"
      },
      "outputs": [],
      "source": [
        "# Directory containing QR code images\n",
        "directory = \"test cases\"\n",
        "output_directory = \"gray_images\"  # Directory to store processed images\n",
        "test_cases = [\"01-Getting-started.png\", \"02-Matsawar-3edel-ya3am.png\",\"03-Leffy-bina-ya-donya.png\", \"04-Black-mirror.png\",\n",
        "              \"10-Gone-With-The-Wind.png\", \"07-THE-MIGHTY-FINGER.png\",\"13-2el-noor-2ata3.png\",\"15.png\",\"14-BANANAAA!!!.png\"]\n",
        "\n",
        "\n",
        "\n",
        "# Function to check and correct image inversion\n",
        "def check_and_correct_inversion(image):\n",
        "    # Convert image to grayscale\n",
        "    gray = cv2.cvtColor(image, cv2.COLOR_BGR2GRAY)\n",
        "    \n",
        "    # Calculate the mean pixel intensity\n",
        "    mean_intensity = np.mean(gray)\n",
        "    \n",
        "    # Check if the image is likely inverted based on mean intensity\n",
        "    if 3 < mean_intensity < 127:  # Adjust threshold as needed\n",
        "        print(\"Image is likely inverted. Inverting...\")\n",
        "        image = cv2.bitwise_not(image)\n",
        "    \n",
        "    return image\n",
        "\n",
        "\n",
        "\n",
        "\n",
        "# Function to load and preprocess images\n",
        "def convert_grayscale():\n",
        "    for filename in test_cases:\n",
        "        if filename.endswith(\".png\") or filename.endswith(\".jpg\"):\n",
        "            # Load image\n",
        "            img_path = os.path.join(directory, filename)\n",
        "            img = cv2.imread(img_path)\n",
        "            \n",
        "            # Check and correct image inversion\n",
        "            img = check_and_correct_inversion(img)\n",
        "           \n",
        "            # Convert to grayscale\n",
        "            gray_img = cv2.cvtColor(img, cv2.COLOR_BGR2GRAY)\n",
        "         \n",
        "            # Save processed image\n",
        "            output_path = os.path.join(output_directory, filename)\n",
        "            cv2.imwrite(output_path, gray_img)\n",
        "            \n",
        "            # Plot original and thresholded images (optional)\n",
        "            plt.figure(figsize=(10, 5))\n",
        "            plt.subplot(1, 2, 1)\n",
        "            plt.imshow(cv2.cvtColor(img, cv2.COLOR_BGR2RGB))\n",
        "            plt.title(\"Original Image\")\n",
        "            plt.axis('off')\n",
        "            \n",
        "            plt.subplot(1, 2, 2)\n",
        "            plt.imshow(gray_img, cmap='gray')\n",
        "            plt.title(\"Output Image\")\n",
        "            plt.axis('off')\n",
        "            \n",
        "            plt.tight_layout()\n",
        "            plt.show()\n",
        "\n",
        "\n",
        "# Create the output directory if it doesn't exist\n",
        "if not os.path.exists(output_directory):\n",
        "    os.makedirs(output_directory)\n",
        "\n",
        "# Call the preprocessing function\n",
        "convert_grayscale()\n"
      ]
    },
    {
      "cell_type": "markdown",
      "metadata": {
        "id": "v9AMrQYvPqGG"
      },
      "source": [
        "## Second Function"
      ]
    },
    {
      "cell_type": "code",
      "execution_count": 19,
      "metadata": {
        "id": "7-ShcH7RPuJj"
      },
      "outputs": [],
      "source": [
        "def get_contours(images):\n",
        "  processed_images = []\n",
        "  for image in images:\n",
        "      # Initialize list to store squares and their dimensions\n",
        "      squares_with_dimensions = []\n",
        "\n",
        "      # Find contours in the image\n",
        "      contours, _ = cv2.findContours(image.copy(), cv2.RETR_EXTERNAL, cv2.CHAIN_APPROX_SIMPLE)\n",
        "\n",
        "      # Assuming contours are already defined\n",
        "      for cnt in contours:\n",
        "          x1, y1 = cnt[0][0]\n",
        "          approx = cv2.approxPolyDP(cnt, 0.01 * cv2.arcLength(cnt, True), True)\n",
        "          if len(approx) == 4:\n",
        "              x, y, w, h = cv2.boundingRect(cnt)\n",
        "              ratio = float(w) / h\n",
        "              if ratio >= 0.9 and ratio <= 1.1:\n",
        "                  squares_with_dimensions.append((cnt, (x1, y1), w, h))\n",
        "\n",
        "      # Sort squares by area in descending order\n",
        "      squares_with_dimensions.sort(key=lambda x: cv2.contourArea(x[0]), reverse=True)\n",
        "\n",
        "      # Find the largest group of three squares with the same dimensions within a tolerance of ±5 pixels\n",
        "      largest_same_dim_squares = []\n",
        "      i = 0\n",
        "      while i < len(squares_with_dimensions) - 2:\n",
        "          square_i = squares_with_dimensions[i]\n",
        "          square_i1 = squares_with_dimensions[i + 1]\n",
        "          square_i2 = squares_with_dimensions[i + 2]\n",
        "          w_i, h_i = square_i[2:]\n",
        "          w_i1, h_i1 = square_i1[2:]\n",
        "          w_i2, h_i2 = square_i2[2:]\n",
        "          if (abs(w_i - w_i1) <= 5 and abs(h_i - h_i1) <= 5) and (abs(w_i - w_i2) <= 5 and abs(h_i - h_i2) <= 5):\n",
        "              largest_same_dim_squares.append((square_i, square_i1, square_i2))\n",
        "              break\n",
        "          i += 1\n",
        "\n",
        "      # Draw the contours and add text for square objects\n",
        "      for squares in largest_same_dim_squares:\n",
        "          for square_info in squares:\n",
        "              cnt, (x1, y1), _, _ = square_info\n",
        "              cv2.drawContours(image, [cnt], -1, (128, 128, 128), 3)\n",
        "              cv2.putText(image, \"Square\", (x1, y1), cv2.FONT_HERSHEY_SIMPLEX, 0.6, (128, 128, 128), 2)\n",
        "\n",
        "      # Get centers of squares\n",
        "      square_centers = [[np.mean(square[0], axis=0)[0] for square in squares] for squares in largest_same_dim_squares]\n",
        "\n",
        "      # Draw lines between the centers of adjacent squares\n",
        "      for squares in square_centers:\n",
        "          for i in range(len(squares) - 1):\n",
        "              center_i = squares[i]\n",
        "              center_j = squares[i + 1]\n",
        "              cv2.line(image, (int(center_i[0]), int(center_i[1])), (int(center_j[0]), int(center_j[1])), (0, 255, 0), 2)\n",
        "\n",
        "      processed_images.append(image)\n",
        "\n",
        "      return processed_images"
      ]
    },
    {
      "cell_type": "markdown",
      "metadata": {
        "id": "pNfDNGgMTXk_"
      },
      "source": [
        "## Preprocessing Pipeline"
      ]
    },
    {
      "cell_type": "code",
      "execution_count": 20,
      "metadata": {
        "id": "G1QVODtvTd8Q"
      },
      "outputs": [],
      "source": [
        "# Define the preprocessing pipeline\n",
        "def preprocessing_pipeline(images):\n",
        "    grayscale_images = convert_to_grayscale(images)\n",
        "    contoured_images = get_contours(grayscale_images)\n",
        "\n",
        "    return contoured_images"
      ]
    },
    {
      "cell_type": "markdown",
      "metadata": {
        "id": "STi9A4GdS9wA"
      },
      "source": [
        "## Defining Test Cases"
      ]
    },
    {
      "cell_type": "code",
      "execution_count": 21,
      "metadata": {
        "id": "8Ynf3U8lTDX-"
      },
      "outputs": [],
      "source": [
        "# Define your test cases\n",
        "test_cases = [cv2.imread(\"01-Getting-started.png\"),\n",
        "              cv2.imread(\"02-Matsawar-3edel-ya3am.png\"),\n",
        "              cv2.imread(\"03-Leffy-bina-ya-donya.png\"),\n",
        "              cv2.imread(\"04-Black-mirror.png\"),\n",
        "              cv2.imread(\"05-Caesar-cipher.png\"),\n",
        "              cv2.imread(\"06-Railfence-cipher.png\"),\n",
        "              cv2.imread(\"07-THE-MIGHTY-FINGER.png\"),\n",
        "              cv2.imread(\"08-Compresso-Espresso.png\"),\n",
        "              cv2.imread(\"09-My-phone-fell-while-taking-this-one-...-or-did-it.png\"),\n",
        "              cv2.imread(\"10-Gone-With-The-Wind.png\"),\n",
        "              cv2.imread(\"11-weewooweewooweewoo.png\"),\n",
        "              cv2.imread(\"12-mal7-w-felfel.png\"),\n",
        "              cv2.imread(\"13-2el-noor-2ata3.png\"),\n",
        "              cv2.imread(\"14-BANANAAA!!!.png\"),\n",
        "              cv2.imread(\"15-beast-mode-computer-vision-(this-one-is-from-wikipedia).jpg\"),\n",
        "              cv2.imread(\"16-V3-QR-Code...-can-you-do-it.png\"),\n",
        "              ]"
      ]
    },
    {
      "cell_type": "markdown",
      "metadata": {
        "id": "TpmdWQu1TJ_r"
      },
      "source": [
        "## Applying Preprocessing Pipeline to all Test Cases"
      ]
    },
    {
      "cell_type": "code",
      "execution_count": 22,
      "metadata": {
        "id": "y5KNa9MKTTRy"
      },
      "outputs": [],
      "source": [
        "preprocessed_images = [preprocessing_pipeline(test_case) for test_case in test_cases]"
      ]
    },
    {
      "cell_type": "markdown",
      "metadata": {
        "id": "azicLsI-b2Wq"
      },
      "source": [
        "## Displaying Output"
      ]
    },
    {
      "cell_type": "code",
      "execution_count": 23,
      "metadata": {
        "colab": {
          "base_uri": "https://localhost:8080/",
          "height": 627
        },
        "id": "4YdsaRmub5-3",
        "outputId": "c7e698ff-e82b-4faf-d090-79fb496da1c8"
      },
      "outputs": [
        {
          "data": {
            "image/png": "[encoded data removed]",
            "text/plain": [
              "<Figure size 900x900 with 16 Axes>"
            ]
          },
          "metadata": {},
          "output_type": "display_data"
        }
      ],
      "source": [
        "# Set up the figure and axes\n",
        "num_test_cases = len(test_cases)\n",
        "num_cols = 4\n",
        "num_rows = 4\n",
        "fig, axs = plt.subplots(num_rows, num_cols, figsize=(9, 9))\n",
        "\n",
        "# Flatten the axes array if there is only one row\n",
        "if num_rows == 1:\n",
        "    axs = axs.reshape(1, -1)\n",
        "\n",
        "# Display the images\n",
        "for i, (test_case, preprocessed_image) in enumerate(zip(test_cases, preprocessed_images)):\n",
        "    row_idx = i // num_cols\n",
        "    col_idx = i % num_cols\n",
        "    axs[row_idx, col_idx].imshow(preprocessed_image, cmap='gray')\n",
        "    axs[row_idx, col_idx].set_title(f'Test Case {i+1}')\n",
        "    axs[row_idx, col_idx].axis('off')\n",
        "\n",
        "# Hide any extra empty subplots\n",
        "for i in range(num_test_cases, num_rows * num_cols):\n",
        "    row_idx = i // num_cols\n",
        "    col_idx = i % num_cols\n",
        "    axs[row_idx, col_idx].axis('off')\n",
        "\n",
        "# Show the plot\n",
        "plt.tight_layout()\n",
        "plt.show()"
      ]
    }
  ],
  "metadata": {
    "colab": {
      "provenance": []
    },
    "kernelspec": {
      "display_name": "Python 3",
      "name": "python3"
    },
    "language_info": {
      "codemirror_mode": {
        "name": "ipython",
        "version": 3
      },
      "file_extension": ".py",
      "mimetype": "text/x-python",
      "name": "python",
      "nbconvert_exporter": "python",
      "pygments_lexer": "ipython3",
      "version": "3.9.18"
    }
  },
  "nbformat": 4,
  "nbformat_minor": 0
}
