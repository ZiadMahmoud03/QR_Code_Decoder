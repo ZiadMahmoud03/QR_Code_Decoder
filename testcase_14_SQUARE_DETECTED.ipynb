{
  "cells": [
    {
      "cell_type": "markdown",
      "source": [],
      "metadata": {
        "id": "FEkkjh-hnoTY"
      }
    },
    {
      "cell_type": "code",
      "execution_count": 173,
      "metadata": {
        "id": "7lf0EOpLmiw5"
      },
      "outputs": [],
      "source": [
        "import cv2\n",
        "import numpy as np\n",
        "import matplotlib.pyplot as plt\n",
        "from google.colab.patches import cv2_imshow"
      ]
    },
    {
      "cell_type": "code",
      "execution_count": 182,
      "metadata": {
        "id": "CGFId2Mumiw7"
      },
      "outputs": [],
      "source": [
        "image = cv2.imread('04-Black-mirror.png')"
      ]
    },
    {
      "cell_type": "code",
      "execution_count": 183,
      "metadata": {
        "id": "UoZsY6kEmiw7"
      },
      "outputs": [],
      "source": [
        "gray_image = cv2.cvtColor(image, cv2.COLOR_BGR2GRAY)\n",
        "\n",
        "# Apply adaptive thresholding\n",
        "_, thresh_image = cv2.threshold(gray_image, 127, 255, cv2.THRESH_BINARY)\n"
      ]
    },
    {
      "cell_type": "code",
      "execution_count": 184,
      "metadata": {
        "id": "Li-tonzLmiw8"
      },
      "outputs": [],
      "source": [
        "contours, _ = cv2.findContours(thresh_image, cv2.RETR_TREE, cv2.CHAIN_APPROX_SIMPLE)"
      ]
    },
    {
      "cell_type": "code",
      "source": [
        "# Initialize list to store squares and their dimensions\n",
        "squares_with_dimensions = []\n",
        "\n",
        "# Assuming contours are already defined\n",
        "for cnt in contours:\n",
        "    x1, y1 = cnt[0][0]\n",
        "    approx = cv2.approxPolyDP(cnt, 0.01 * cv2.arcLength(cnt, True), True)\n",
        "    if len(approx) == 4:\n",
        "        x, y, w, h = cv2.boundingRect(cnt)\n",
        "        ratio = float(w) / h\n",
        "        if ratio >= 0.9 and ratio <= 1.1:\n",
        "            squares_with_dimensions.append((cnt, (x1, y1), w, h))\n",
        "\n",
        "# Sort squares by area in descending order\n",
        "squares_with_dimensions.sort(key=lambda x: cv2.contourArea(x[0]), reverse=True)\n",
        "\n",
        "# Find the largest group of three squares with the same dimensions within a tolerance of ±5 pixels\n",
        "largest_same_dim_squares = []\n",
        "i = 0\n",
        "while i < len(squares_with_dimensions) - 2:\n",
        "    square_i = squares_with_dimensions[i]\n",
        "    square_i1 = squares_with_dimensions[i + 1]\n",
        "    square_i2 = squares_with_dimensions[i + 2]\n",
        "    w_i, h_i = square_i[2:]\n",
        "    w_i1, h_i1 = square_i1[2:]\n",
        "    w_i2, h_i2 = square_i2[2:]\n",
        "    if (abs(w_i - w_i1) <= 5 and abs(h_i - h_i1) <= 5) and (abs(w_i - w_i2) <= 5 and abs(h_i - h_i2) <= 5):\n",
        "        largest_same_dim_squares.append((square_i, square_i1, square_i2))\n",
        "        break\n",
        "    i += 1\n",
        "\n",
        "# Draw the contours and add text for square objects\n",
        "for squares in largest_same_dim_squares:\n",
        "    for square_info in squares:\n",
        "        cnt, (x1, y1), _, _ = square_info\n",
        "        cv2.drawContours(image, [cnt], -1, (128, 128, 128), 3)\n",
        "        cv2.putText(image, \"Square\", (x1, y1), cv2.FONT_HERSHEY_SIMPLEX, 0.6, (128, 128, 128), 2)\n",
        "\n",
        "# Get centers of squares\n",
        "square_centers = [[np.mean(square[0], axis=0)[0] for square in squares] for squares in largest_same_dim_squares]\n",
        "\n",
        "# Draw lines between the centers of adjacent squares\n",
        "for squares in square_centers:\n",
        "    for i in range(len(squares) - 1):\n",
        "        center_i = squares[i]\n",
        "        center_j = squares[i + 1]\n",
        "        cv2.line(image, (int(center_i[0]), int(center_i[1])), (int(center_j[0]), int(center_j[1])), (0, 255, 0), 2)\n",
        "\n",
        "\n",
        "# Display the image\n",
        "cv2_imshow(image)\n",
        "cv2.waitKey(0)\n",
        "cv2.destroyAllWindows()"
      ],
      "metadata": {
        "colab": {
          "base_uri": "https://localhost:8080/",
          "height": 1000
        },
        "id": "fzZkkc5vcvig",
        "outputId": "e5a7f22e-7e10-4e16-d31f-17605f9bf7c8"
      },
      "execution_count": 185,
      "outputs": [
        {
          "output_type": "display_data",
          "data": {
            "text/plain": [
              "<PIL.Image.Image image mode=RGB size=1012x1012>"
            ],
            "image/png": "[encoded data removed]"
          },
          "metadata": {}
        }
      ]
    },
    {
      "cell_type": "code",
      "source": [],
      "metadata": {
        "id": "HU4ybU6xmGh5"
      },
      "execution_count": null,
      "outputs": []
    }
  ],
  "metadata": {
    "kernelspec": {
      "display_name": "Python 3",
      "language": "python",
      "name": "python3"
    },
    "language_info": {
      "codemirror_mode": {
        "name": "ipython",
        "version": 3
      },
      "file_extension": ".py",
      "mimetype": "text/x-python",
      "name": "python",
      "nbconvert_exporter": "python",
      "pygments_lexer": "ipython3",
      "version": "3.12.1"
    },
    "colab": {
      "provenance": []
    }
  },
  "nbformat": 4,
  "nbformat_minor": 0
}